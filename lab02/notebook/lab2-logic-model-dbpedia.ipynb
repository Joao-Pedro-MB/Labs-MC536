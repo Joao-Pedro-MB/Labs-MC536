{
 "cells": [
  {
   "cell_type": "markdown",
   "source": [
    "# Laboratório 2"
   ],
   "metadata": {}
  },
  {
   "cell_type": "code",
   "execution_count": 41,
   "source": [
    "import io, requests, json"
   ],
   "outputs": [],
   "metadata": {}
  },
  {
   "cell_type": "markdown",
   "source": [
    "## Tarefa 1\n",
    "\n",
    "### Carregue o nó de Tenda dos Milagres (da versão em inglês Tent of Miracles) em Python e mostre o conteúdo JSON."
   ],
   "metadata": {}
  },
  {
   "cell_type": "code",
   "execution_count": null,
   "source": [
    "url_template = \"http://dbpedia.org/data/{concept}.{format}\"\n",
    "\n",
    "concept = \"Tent of Miracles (novel)\"\n",
    "format = \"jsod\"\n",
    "\n",
    "concept = concept.replace(\" \", \"_\")\n",
    "\n",
    "url = url_template.replace(\"{concept}\", concept).replace(\"{format}\", format)\n",
    "\n",
    "data = requests.get(url)\n",
    "js = data.json()\n",
    "print(json.dumps(js, indent=3))"
   ],
   "outputs": [],
   "metadata": {}
  },
  {
   "cell_type": "markdown",
   "source": [
    "## Tarefa 2\n",
    "### Recupere via Python e mostre o autor de Tenda dos Milagres?"
   ],
   "metadata": {}
  },
  {
   "cell_type": "code",
   "execution_count": null,
   "source": [
    "author = js[\"d\"][\"results\"][0][\"http://dbpedia.org/ontology/author\"][\"__deferred\"][\"uri\"]\n",
    "print(\"Autor de The tent of Miracles: \" + author)\n",
    "\n",
    "# imagem do autor\n",
    "#from PIL import Image\n",
    "#import urllib.request\n",
    "#data = requests.get(jorge.replace(\"resource\", \"data\")+'.jsod')\n",
    "#js_author = data.json()\n",
    "#author = js_author[\"d\"][\"results\"][0][\"http://dbpedia.org/ontology/thumbnail\"][\"__deferred\"][\"uri\"]\n",
    "#with urllib.request.urlopen(author) as url:\n",
    "#    f = io.BytesIO(url.read())\n",
    "#img = Image.open(f)\n",
    "#img.show()"
   ],
   "outputs": [],
   "metadata": {}
  },
  {
   "cell_type": "markdown",
   "source": [
    "## Tarefa 3\n",
    "### Quais os termos usados para Aspirina (consulta JSON/MeSH em Python)?"
   ],
   "metadata": {}
  },
  {
   "cell_type": "code",
   "execution_count": 86,
   "source": [
    "concept = \"Aspirin\"\n",
    "match = \"exact\"\n",
    "limit = 10\n",
    "\n",
    "url = \"https://id.nlm.nih.gov/mesh/lookup/descriptor?label={concept}&match={match}&limit={limit}\".format(concept = concept, match = match,limit = limit)\n",
    "\n",
    "json_mi = requests.get(url).json()\n",
    "\n",
    "# link para o recurso\n",
    "uri_mesh = json_mi[0][\"resource\"]\n",
    "print(\"uri do recurso: \" + uri_mesh)\n",
    "\n",
    "# codigo do recurso\n",
    "code = uri_mesh.split('/')[-1]\n",
    "print(\"código do recurso: \" + code)\n",
    "\n",
    "# termos do recurso\n",
    "url_details = \"https://id.nlm.nih.gov/mesh/lookup/details?descriptor={code}\".format(code = code)\n",
    "json_mid = requests.get(url_details).json()\n",
    "for term in json_mid['terms']: print('termo popular:',term['label']) if term['preferred'] == True else print('termo tecnico:',term['label'])"
   ],
   "outputs": [
    {
     "output_type": "stream",
     "name": "stdout",
     "text": [
      "uri do recurso: http://id.nlm.nih.gov/mesh/D001241\n",
      "código do recurso: D001241\n",
      "termo popular: Aspirin\n",
      "termo tecnico: 2-(Acetyloxy)benzoic Acid\n",
      "termo tecnico: Acetylsalicylic Acid\n",
      "termo tecnico: Acetysal\n",
      "termo tecnico: Acylpyrin\n",
      "termo tecnico: Aloxiprimum\n",
      "termo tecnico: Colfarit\n",
      "termo tecnico: Dispril\n",
      "termo tecnico: Easprin\n",
      "termo tecnico: Ecotrin\n",
      "termo tecnico: Endosprin\n",
      "termo tecnico: Magnecyl\n",
      "termo tecnico: Micristin\n",
      "termo tecnico: Polopirin\n",
      "termo tecnico: Polopiryna\n",
      "termo tecnico: Solprin\n",
      "termo tecnico: Solupsan\n",
      "termo tecnico: Zorprin\n"
     ]
    }
   ],
   "metadata": {}
  },
  {
   "cell_type": "markdown",
   "source": [
    "## Tarefa 4\n",
    "### Escolha algum lugar no OpenStreetMap e elabore a mesma sequência de três chamadas de serviços para o seu conceito."
   ],
   "metadata": {}
  },
  {
   "cell_type": "code",
   "execution_count": 103,
   "source": [
    "# requisicao do numero de referencia do MASP\n",
    "file_format = \"json\"\n",
    "query = \"MASP\"\n",
    "\n",
    "url = \"http://nominatim.openstreetmap.org/search?format={format}&q={query}\".format(format = file_format,query = query)\n",
    "\n",
    "museum_ref = requests.get(url).json()\n",
    "#print(json.dumps(museum_ref, indent=3))\n",
    "print('identificao do MASP:',museum_ref[0][\"osm_id\"])\n",
    "\n",
    "\n",
    "# requisicao da pagina na wikipedia\n",
    "element_type = \"way\" # types: node, way, or relation\n",
    "id = str(museum_ref[0][\"osm_id\"])\n",
    "\n",
    "url = \"https://api.openstreetmap.org/api/0.6/{element_type}/{id}.{format}\".format(element_type = element_type, id = id, format = file_format)\n",
    "\n",
    "museum_way = requests.get(url).json()\n",
    "print('Tag da wikipedia:',museum_way[\"elements\"][0][\"tags\"][\"wikipedia\"])\n",
    "\n",
    "# requisicao da informacao no dbpedia\n",
    "concept = museum_way[\"elements\"][0][\"tags\"][\"wikipedia\"].replace(\" \", \"_\").replace(\"pt:\", \"\")\n",
    "file_format = \"jsod\"\n",
    "url = \"http://dbpedia.org/data/{concept}.{format}\".format(concept = concept, format = file_format)\n",
    "\n",
    "museum_dbpedia = requests.get(url).json()\n",
    "print(json.dumps(museum_dbpedia[\"d\"][\"results\"][0], indent=3))"
   ],
   "outputs": [
    {
     "output_type": "stream",
     "name": "stdout",
     "text": [
      "identificao do MASP: 419922808\n",
      "Tag da wikipedia: pt:Museu de Arte de São Paulo\n",
      "{\n",
      "   \"__metadata\": {\n",
      "      \"uri\": \"http://dbpedia.org/resource/Museu_de_Arte_de_S\\u00e3o_Paulo\"\n",
      "   },\n",
      "   \"http://dbpedia.org/ontology/wikiPageLength\": \"37\",\n",
      "   \"http://www.w3.org/ns/prov#wasDerivedFrom\": {\n",
      "      \"__deferred\": {\n",
      "         \"uri\": \"http://en.wikipedia.org/wiki/Museu_de_Arte_de_S\\u00e3o_Paulo?oldid=137140342&ns=0\"\n",
      "      }\n",
      "   },\n",
      "   \"http://xmlns.com/foaf/0.1/isPrimaryTopicOf\": {\n",
      "      \"__deferred\": {\n",
      "         \"uri\": \"http://en.wikipedia.org/wiki/Museu_de_Arte_de_S\\u00e3o_Paulo\"\n",
      "      }\n",
      "   },\n",
      "   \"http://www.w3.org/2000/01/rdf-schema#label\": \"Museu de Arte de S\\u00e3o Paulo\",\n",
      "   \"http://dbpedia.org/ontology/wikiPageID\": \"11687792\",\n",
      "   \"http://dbpedia.org/ontology/wikiPageWikiLink\": {\n",
      "      \"__deferred\": {\n",
      "         \"uri\": \"http://dbpedia.org/resource/S\\u00e3o_Paulo_Museum_of_Art\"\n",
      "      }\n",
      "   },\n",
      "   \"http://dbpedia.org/ontology/wikiPageRedirects\": {\n",
      "      \"__deferred\": {\n",
      "         \"uri\": \"http://dbpedia.org/resource/S\\u00e3o_Paulo_Museum_of_Art\"\n",
      "      }\n",
      "   },\n",
      "   \"http://dbpedia.org/ontology/wikiPageRevisionID\": \"137140342\"\n",
      "}\n"
     ]
    }
   ],
   "metadata": {}
  }
 ],
 "metadata": {
  "kernelspec": {
   "name": "python3",
   "display_name": "Python 3.8.10 64-bit"
  },
  "language_info": {
   "codemirror_mode": {
    "name": "ipython",
    "version": 3
   },
   "file_extension": ".py",
   "mimetype": "text/x-python",
   "name": "python",
   "nbconvert_exporter": "python",
   "pygments_lexer": "ipython3",
   "version": "3.8.10"
  },
  "interpreter": {
   "hash": "31f2aee4e71d21fbe5cf8b01ff0e069b9275f58929596ceb00d14d90e3e16cd6"
  }
 },
 "nbformat": 4,
 "nbformat_minor": 5
}