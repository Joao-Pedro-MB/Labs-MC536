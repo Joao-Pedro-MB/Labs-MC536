{
 "cells": [
  {
   "cell_type": "code",
   "execution_count": 4,
   "source": [
    "%defaultDatasource jdbc:h2:mem:db"
   ],
   "outputs": [],
   "metadata": {}
  },
  {
   "cell_type": "markdown",
   "source": [
    "\n",
    "## Analisando o Uso de Medicamentos\n",
    "\n",
    "- Esta tarefa analisará os dados conforme três abordagens: análise do comportamento estatístico; análise de correlação entre pares; análise de correlação de variáveis.\n",
    "- A partir dos arquivos CSV que estão no diretórios /data nhanes considere as seguintes tabelas SQL."
   ],
   "metadata": {}
  },
  {
   "cell_type": "code",
   "execution_count": 5,
   "source": [
    "DROP VIEW  IF Exists Total_table;\n",
    "DROP VIEW  IF Exists Use_Count;\n",
    "DROP VIEW  IF Exists Most_Used;\n",
    "DROP Table IF EXISTS Person;\n",
    "DROP Table IF EXISTS Drug;\n",
    "DROP Table IF EXISTS DrugUse;"
   ],
   "outputs": [],
   "metadata": {}
  },
  {
   "cell_type": "code",
   "execution_count": 6,
   "source": [
    "CREATE TABLE Person (\n",
    "  Id VARCHAR(5) NOT NULL,\n",
    "  Gender INTEGER,\n",
    "  Age INTEGER,\n",
    "  PRIMARY KEY(Id)\n",
    ") AS SELECT\n",
    "    id,\n",
    "    gender,\n",
    "    age\n",
    "FROM CSVREAD('../data/nhanes/demographic-person.csv');\n",
    "\n",
    "CREATE TABLE Drug (\n",
    "  Code VARCHAR(6) NOT NULL,\n",
    "  Name VARCHAR(100) NOT NULL,\n",
    "  PRIMARY KEY(Code)\n",
    ") AS SELECT\n",
    "    code,\n",
    "    name\n",
    "FROM CSVREAD('../data/nhanes/medications-drug.csv');\n",
    "\n",
    "CREATE TABLE DrugUse (\n",
    "  PersonId VARCHAR(5) NOT NULL,\n",
    "  DrugCode VARCHAR(6) NOT NULL,\n",
    "  DaysUse INTEGER,\n",
    "  FOREIGN KEY(PersonId)\n",
    "    REFERENCES Person(Id)\n",
    "      ON DELETE NO ACTION\n",
    "      ON UPDATE NO ACTION,\n",
    "  FOREIGN KEY(DrugCode)\n",
    "    REFERENCES Drug(Code)\n",
    "      ON DELETE NO ACTION\n",
    "      ON UPDATE NO ACTION\n",
    ") AS SELECT\n",
    "    person_id,\n",
    "    drug_code,\n",
    "    days_use\n",
    "FROM CSVREAD('../data/nhanes/medications-use.csv');"
   ],
   "outputs": [],
   "metadata": {}
  },
  {
   "cell_type": "code",
   "execution_count": 7,
   "source": [
    "SELECT * FROM Person;\n",
    "SELECT * FROM Drug;\n",
    "SELECT * FROM DrugUse"
   ],
   "outputs": [
    {
     "output_type": "display_data",
     "data": {
      "application/vnd.jupyter.widget-view+json": {
       "version_minor": 0,
       "model_id": "764ed7ad-175d-4c21-a0e3-ae4086b579d4",
       "version_major": 2
      },
      "text/plain": []
     },
     "metadata": {}
    },
    {
     "output_type": "display_data",
     "data": {
      "application/vnd.jupyter.widget-view+json": {
       "version_minor": 0,
       "model_id": "a65d0f50-1e6f-400c-8bab-7d4e06985096",
       "version_major": 2
      },
      "text/plain": []
     },
     "metadata": {}
    },
    {
     "output_type": "display_data",
     "data": {
      "application/vnd.jupyter.widget-view+json": {
       "version_minor": 0,
       "model_id": "e9b6ba8c-f8ce-47c9-bb08-003c35532f72",
       "version_major": 2
      },
      "text/plain": []
     },
     "metadata": {}
    }
   ],
   "metadata": {}
  },
  {
   "cell_type": "markdown",
   "source": [
    "# I. Análise de comportamento estatístico"
   ],
   "metadata": {}
  },
  {
   "cell_type": "markdown",
   "source": [
    "## 1) Contabilizando o uso de medicamentos\n",
    "- Liste o nome de todos os medicamentos e a quantidade de pessoas que usa cada um deles."
   ],
   "metadata": {}
  },
  {
   "cell_type": "code",
   "execution_count": 8,
   "source": [
    "SELECT distinct D.Name, D.Code, COUNT(P.Id) FROM Drug AS D JOIN DrugUse AS DU\n",
    "ON D.Code = DU.DrugCode\n",
    "JOIN Person as P\n",
    "ON P.Id = DU.PersonId\n",
    "GROUP BY D.Code\n",
    "ORDER BY D.Code;"
   ],
   "outputs": [
    {
     "output_type": "display_data",
     "data": {
      "application/vnd.jupyter.widget-view+json": {
       "version_minor": 0,
       "model_id": "15163682-be17-4359-af59-daf2afee987a",
       "version_major": 2
      },
      "text/plain": []
     },
     "metadata": {}
    }
   ],
   "metadata": {}
  },
  {
   "cell_type": "markdown",
   "source": [
    "## 2) Medicamento mais usado com VIEW\n",
    "- Informe o código do medicamento mais usado: fazendo uso de VIEW."
   ],
   "metadata": {}
  },
  {
   "cell_type": "code",
   "execution_count": 9,
   "source": [
    "DROP VIEW  IF Exists Use_count;\n",
    "CREATE VIEW Use_count AS\n",
    "SELECT distinct D.Name, D.Code, COUNT(P.Id) Times_used FROM Drug AS D JOIN DrugUse AS DU\n",
    "ON D.Code = DU.DrugCode\n",
    "JOIN Person as P\n",
    "ON P.Id = DU.PersonId\n",
    "GROUP BY D.Code\n",
    "ORDER BY D.Code;\n",
    "\n",
    "SELECT Code FROM Use_count\n",
    "WHERE Times_used = (SELECT MAX(Times_used) FROM Use_count);"
   ],
   "outputs": [
    {
     "output_type": "execute_result",
     "data": {
      "text/plain": [
       "d00732"
      ]
     },
     "metadata": {},
     "execution_count": 9
    }
   ],
   "metadata": {}
  },
  {
   "cell_type": "markdown",
   "source": [
    "## 3) Medicamento mais usado sem VIEW\n",
    "- Informe o código do medicamento mais usado: sem fazer uso de VIEW."
   ],
   "metadata": {}
  },
  {
   "cell_type": "code",
   "execution_count": 10,
   "source": [
    "SELECT D1.Code FROM \n",
    "(\n",
    "\tSELECT distinct D.Name, D.Code, COUNT(P.Id) Times_used FROM Drug AS D JOIN DrugUse AS DU\n",
    "\tON D.Code = DU.DrugCode\n",
    "\tJOIN Person as P\n",
    "\tON P.Id = DU.PersonId\n",
    "\tGROUP BY D.Code\n",
    "\tORDER BY D.Code\n",
    ") as D1\n",
    "JOIN\n",
    "(\n",
    "\tSELECT MAX(Times_used) Most_used FROM (\n",
    "\tSELECT distinct D.Name, D.Code, COUNT(P.Id) Times_used FROM Drug AS D JOIN DrugUse AS DU\n",
    "\tON D.Code = DU.DrugCode\n",
    "\tJOIN Person as P\n",
    "\tON P.Id = DU.PersonId\n",
    "\tGROUP BY D.Code\n",
    "\tORDER BY D.Code)\n",
    ")\n",
    "as D2\n",
    "ON D1.Times_used = D2.Most_Used;"
   ],
   "outputs": [
    {
     "output_type": "execute_result",
     "data": {
      "text/plain": [
       "d00732"
      ]
     },
     "metadata": {},
     "execution_count": 10
    }
   ],
   "metadata": {}
  },
  {
   "cell_type": "markdown",
   "source": [
    "## 4) Nome do medicamento mais usado\n",
    "- Informe o nome do medicamento mais usado (uso de VIEW é opcional)."
   ],
   "metadata": {}
  },
  {
   "cell_type": "code",
   "execution_count": 11,
   "source": [
    "DROP VIEW  IF Exists Use_count;\n",
    "CREATE VIEW Use_count AS\n",
    "SELECT distinct D.Name, D.Code, COUNT(P.Id) Times_used FROM Drug AS D JOIN DrugUse AS DU\n",
    "ON D.Code = DU.DrugCode\n",
    "JOIN Person as P\n",
    "ON P.Id = DU.PersonId\n",
    "GROUP BY D.Code\n",
    "ORDER BY D.Code;\n",
    "\n",
    "SELECT Name FROM Use_count\n",
    "WHERE Times_used = (SELECT MAX(Times_used) FROM Use_count);"
   ],
   "outputs": [
    {
     "output_type": "execute_result",
     "data": {
      "text/plain": [
       "LISINOPRIL"
      ]
     },
     "metadata": {},
     "execution_count": 11
    }
   ],
   "metadata": {}
  },
  {
   "cell_type": "markdown",
   "source": [
    "## 5) Contabilizando quanto as pessoas usam de medicamento\n",
    "- Informe o número médio de uso de medicamento por pessoa."
   ],
   "metadata": {}
  },
  {
   "cell_type": "code",
   "execution_count": 12,
   "source": [
    "SELECT AVG(Usos) FROM (\n",
    "SELECT distinct Person.Id, COUNT(Drug.Code) Usos FROM Drug JOIN DrugUse\n",
    "ON Drug.Code = DrugUse.DrugCode\n",
    "JOIN Person\n",
    "ON Person.Id = DrugUse.PersonId\n",
    "GROUP BY Person.Id\n",
    ");"
   ],
   "outputs": [
    {
     "output_type": "execute_result",
     "data": {
      "text/plain": [
       "3"
      ]
     },
     "metadata": {},
     "execution_count": 12
    }
   ],
   "metadata": {}
  },
  {
   "cell_type": "markdown",
   "source": [
    "## 6) Pessoas que usam mais do que a média\n",
    "- Liste o id das pessoas que usam mais medicamentos do que a média."
   ],
   "metadata": {}
  },
  {
   "cell_type": "code",
   "execution_count": 13,
   "source": [
    "DROP VIEW  IF Exists Use_count;\n",
    "CREATE VIEW Use_count AS\n",
    "SELECT distinct Person.Id, COUNT(Drug.Code) Usos FROM Drug JOIN DrugUse\n",
    "ON Drug.Code = DrugUse.DrugCode\n",
    "JOIN Person\n",
    "ON Person.Id = DrugUse.PersonId\n",
    "GROUP BY Person.Id;\n",
    "\n",
    "SELECT Id FROM Use_count\n",
    "WHERE Usos > (SELECT AVG(Usos) FROM Use_count);"
   ],
   "outputs": [
    {
     "output_type": "display_data",
     "data": {
      "application/vnd.jupyter.widget-view+json": {
       "version_minor": 0,
       "model_id": "db8c3d1f-9b33-42f1-90fd-01f4a4c5c015",
       "version_major": 2
      },
      "text/plain": []
     },
     "metadata": {}
    }
   ],
   "metadata": {}
  },
  {
   "cell_type": "markdown",
   "source": [
    "## 7) Análise do uso de medicamento\n",
    "- Considere que um médico quer fazer responder a seguinte questão: pessoas tendem a usar mais medicamentos conforme ficam mais velhas?\n",
    "- Escreva uma query que ajude o médico a realizar esta análise."
   ],
   "metadata": {}
  },
  {
   "cell_type": "code",
   "execution_count": 14,
   "source": [
    "DROP VIEW  IF Exists Total_table;\n",
    "\n",
    "CREATE VIEW Total_table AS\n",
    "SELECT distinct P.Age, COUNT(D.Code) usados FROM Drug AS D JOIN DrugUse AS DU\n",
    "ON D.Code = DU.DrugCode\n",
    "JOIN Person as P\n",
    "ON P.Id = DU.PersonId\n",
    "GROUP BY P.Id;\n",
    "\n",
    "SELECT Age, AVG(usados) FROM Total_table\n",
    "Group by Age;"
   ],
   "outputs": [
    {
     "output_type": "display_data",
     "data": {
      "application/vnd.jupyter.widget-view+json": {
       "version_minor": 0,
       "model_id": "d4a2c8fc-67a1-4401-8523-5b35df42a46c",
       "version_major": 2
      },
      "text/plain": []
     },
     "metadata": {}
    }
   ],
   "metadata": {}
  },
  {
   "cell_type": "markdown",
   "source": [
    "# Navegando por Hierarquias\n",
    "A seguir exercícios envolvendo navegação por hierarquias.\n"
   ],
   "metadata": {}
  },
  {
   "cell_type": "markdown",
   "source": [
    "## Marcadores e Taxonomia\n",
    "- Considere o modelo para Marcadores e Taxonomia:"
   ],
   "metadata": {}
  },
  {
   "cell_type": "markdown",
   "source": [
    "![UML](marcadores-taxonomia-uml.png)\n",
    "\n",
    "![Relacional](marcadores-taxonomia-er.png)"
   ],
   "metadata": {}
  },
  {
   "cell_type": "markdown",
   "source": [
    "Considere as sentenças SQL a seguir para montar as tabelas de Marcadores e Taxonomia:"
   ],
   "metadata": {}
  },
  {
   "cell_type": "code",
   "execution_count": 15,
   "source": [
    "DROP TABLE IF EXISTS Taxonomia;\n",
    "DROP TABLE IF EXISTS Marcadores;\n",
    "\n",
    "CREATE TABLE Taxonomia (\n",
    "  Categoria VARCHAR(50) NOT NULL,\n",
    "  Superior  VARCHAR(50),\n",
    "  PRIMARY KEY(Categoria),\n",
    "  FOREIGN KEY(Superior)\n",
    "    REFERENCES Taxonomia(Categoria)\n",
    "      ON DELETE NO ACTION\n",
    "      ON UPDATE CASCADE\n",
    ");\n",
    "\n",
    "CREATE TABLE Marcadores (\n",
    "  Titulo VARCHAR(50) NOT NULL,\n",
    "  Endereco VARCHAR(80) NOT NULL,\n",
    "  Acessos INTEGER,\n",
    "  Categoria VARCHAR(50) NOT NULL,\n",
    "  PRIMARY KEY(Titulo),\n",
    "  FOREIGN KEY(Categoria)\n",
    "    REFERENCES Taxonomia(Categoria)\n",
    "      ON DELETE NO ACTION\n",
    "      ON UPDATE CASCADE\n",
    ");"
   ],
   "outputs": [],
   "metadata": {}
  },
  {
   "cell_type": "markdown",
   "source": [
    "As tabelas são preenchidas com as seguintes tuplas:"
   ],
   "metadata": {}
  },
  {
   "cell_type": "code",
   "execution_count": 16,
   "source": [
    "INSERT INTO Taxonomia VALUES ('Geral', NULL);\n",
    "INSERT INTO Taxonomia VALUES ('Serviços', 'Geral');\n",
    "INSERT INTO Taxonomia VALUES ('Acadêmico', 'Geral');\n",
    "INSERT INTO Taxonomia VALUES ('Relacionamento', 'Geral');\n",
    "INSERT INTO Taxonomia VALUES ('Busca', 'Serviços');\n",
    "INSERT INTO Taxonomia VALUES ('Portal', 'Serviços');\n",
    "INSERT INTO Taxonomia VALUES ('Mail', 'Serviços');\n",
    "INSERT INTO Taxonomia VALUES ('Vendas', 'Serviços');\n",
    "INSERT INTO Taxonomia VALUES ('Universidade', 'Acadêmico');\n",
    "INSERT INTO Taxonomia VALUES ('CG', 'Acadêmico');\n",
    "INSERT INTO Taxonomia VALUES ('Sociedade', 'Acadêmico');\n",
    "INSERT INTO Taxonomia VALUES ('Rede Social', 'Relacionamento');\n",
    "INSERT INTO Taxonomia VALUES ('Marketplace', 'Vendas');\n",
    "INSERT INTO Taxonomia VALUES ('Loja', 'Vendas');\n",
    "INSERT INTO Taxonomia VALUES ('Notícias', 'Portal');\n",
    "INSERT INTO Taxonomia VALUES ('Agregador', 'Portal');\n",
    "\n",
    "INSERT INTO Marcadores VALUES ('Terra', 'http://www.terra.com.br', 295, 'Portal');\n",
    "INSERT INTO Marcadores VALUES ('POVRay', 'http://www.povray.org', 2, 'CG');\n",
    "INSERT INTO Marcadores VALUES ('SBC', 'http://www.sbc.org.br', 26, 'Sociedade');\n",
    "INSERT INTO Marcadores VALUES ('Correios', 'http://www.correios.com.br', 45, 'Serviços');\n",
    "INSERT INTO Marcadores VALUES ('GMail', 'http://www.gmail.com', 296, 'Mail');\n",
    "INSERT INTO Marcadores VALUES ('Google', 'http://www.google.com', 1590, 'Busca');\n",
    "INSERT INTO Marcadores VALUES ('Yahoo', 'http://www.yahoo.com', 134, 'Serviços');\n",
    "INSERT INTO Marcadores VALUES ('Orkut', 'http://www.orkut.com', 45, 'Rede Social');\n",
    "INSERT INTO Marcadores VALUES ('iBahia', 'http://www.ibahia.com', 3, 'Portal');\n",
    "INSERT INTO Marcadores VALUES ('Submarino', 'http://www.submarino.com.br', 320, 'Loja');\n",
    "INSERT INTO Marcadores VALUES ('Amazon', 'https://www.amazon.com.br', 410, 'Marketplace');\n",
    "INSERT INTO Marcadores VALUES ('Americanas', 'https://www.americanas.com.br', 320, 'Loja');\n",
    "INSERT INTO Marcadores VALUES ('Mercado Livre', 'https://www.mercadolivre.com.br', 500, 'Marketplace');\n",
    "INSERT INTO Marcadores VALUES ('G1', 'https://g1.globo.com', 1200, 'Notícias');\n",
    "INSERT INTO Marcadores VALUES ('Folha', 'https://www.folha.uol.com.br', 850, 'Notícias');\n",
    "INSERT INTO Marcadores VALUES ('Google News', 'https://news.google.com', 900, 'Agregador');\n",
    "INSERT INTO Marcadores VALUES ('Flipboard', 'https://flipboard.com', 950, 'Agregador');"
   ],
   "outputs": [],
   "metadata": {}
  },
  {
   "cell_type": "markdown",
   "source": [
    "Conteúdo da tabela Taxonomia:"
   ],
   "metadata": {}
  },
  {
   "cell_type": "code",
   "execution_count": 17,
   "source": [
    "SELECT * FROM Taxonomia;"
   ],
   "outputs": [
    {
     "output_type": "display_data",
     "data": {
      "application/vnd.jupyter.widget-view+json": {
       "version_minor": 0,
       "model_id": "759290e6-bb23-4dac-9463-0c54c751bbb1",
       "version_major": 2
      },
      "text/plain": []
     },
     "metadata": {}
    }
   ],
   "metadata": {}
  },
  {
   "cell_type": "markdown",
   "source": [
    "Conteúdo da tabela Marcadores:"
   ],
   "metadata": {}
  },
  {
   "cell_type": "code",
   "execution_count": 18,
   "source": [
    "SELECT * FROM Marcadores;"
   ],
   "outputs": [
    {
     "output_type": "display_data",
     "data": {
      "application/vnd.jupyter.widget-view+json": {
       "version_minor": 0,
       "model_id": "e0914303-4bda-4a43-a0c3-5722cd6fd38a",
       "version_major": 2
      },
      "text/plain": []
     },
     "metadata": {}
    }
   ],
   "metadata": {}
  },
  {
   "cell_type": "markdown",
   "source": [
    "## Tarefa 1\n",
    "- Escreva em SQL uma consulta que retorne os marcadores da categoria Serviços, sem considerar as categorias subordinadas."
   ],
   "metadata": {}
  },
  {
   "cell_type": "code",
   "execution_count": 19,
   "source": [
    "SELECT * FROM Marcadores\n",
    "WHERE categoria = 'Serviços'"
   ],
   "outputs": [
    {
     "output_type": "display_data",
     "data": {
      "application/vnd.jupyter.widget-view+json": {
       "version_minor": 0,
       "model_id": "a23b7262-1500-46f3-a345-f98501f53874",
       "version_major": 2
      },
      "text/plain": []
     },
     "metadata": {}
    }
   ],
   "metadata": {}
  },
  {
   "cell_type": "markdown",
   "source": [
    "## Tarefa 2\n",
    "- Escreva em SQL uma consulta que retorne os marcadores da categoria Serviços, considerando as categorias subordinadas."
   ],
   "metadata": {}
  },
  {
   "cell_type": "code",
   "execution_count": 25,
   "source": [
    "SELECT M.* FROM Taxonomia as T\n",
    "JOIN Marcadores as M\n",
    "ON M.Categoria = T.Categoria\n",
    "WHERE T.Categoria = 'Serviços' \n",
    "OR T.Superior = 'Serviços' \n",
    "OR T.Superior = 'Vendas' \n",
    "OR T.Superior = 'Portal';"
   ],
   "outputs": [
    {
     "output_type": "display_data",
     "data": {
      "application/vnd.jupyter.widget-view+json": {
       "version_minor": 0,
       "model_id": "311af234-4a1c-4e2f-addf-3fd93e162ac1",
       "version_major": 2
      },
      "text/plain": []
     },
     "metadata": {}
    }
   ],
   "metadata": {}
  }
 ],
 "metadata": {
  "orig_nbformat": 4,
  "language_info": {
   "nbconverter_exporter": "",
   "codemirror_mode": "sql",
   "name": "SQL",
   "mimetype": "",
   "file_extension": ".sql",
   "version": ""
  },
  "kernelspec": {
   "name": "python388jvsc74a57bd0463c167329cf11f709f0ab16057625469474f5f0bb19bc887213eef3f522f718",
   "display_name": "SQL",
   "language": "SQL"
  },
  "interpreter": {
   "hash": "31f2aee4e71d21fbe5cf8b01ff0e069b9275f58929596ceb00d14d90e3e16cd6"
  }
 },
 "nbformat": 4,
 "nbformat_minor": 2
}